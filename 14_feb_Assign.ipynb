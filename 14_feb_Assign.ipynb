{
 "cells": [
  {
   "cell_type": "markdown",
   "id": "367123f2-eaeb-4c21-94d9-6b91d99f0fc8",
   "metadata": {},
   "source": [
    "### <b>Question No. 1</b>"
   ]
  },
  {
   "cell_type": "markdown",
   "id": "9ceda972-1d02-4b83-9702-485b28f9e065",
   "metadata": {},
   "source": [
    "<b> Multithreading </b> : Dividing a core into multiple threads(sub processors) to work on multiple process in a consicutive manner.<br> It is used to speed up the entire process. Threading is used to handle threads in python"
   ]
  },
  {
   "cell_type": "markdown",
   "id": "9adaa4ac-d4a3-4b1c-b2b1-4b61f06b7c42",
   "metadata": {},
   "source": [
    "### <b>Question No. 2"
   ]
  },
  {
   "cell_type": "markdown",
   "id": "ce19737f-8d00-414b-84cc-f8a66c51ff24",
   "metadata": {},
   "source": [
    "Threading module is used to create, manage, and control threads in python.<br>\n",
    "\n",
    "Use of the following functions are:<br>\n",
    "1. <b>activeCount(): </b>Return the number of Thread objects currently alive.<br>\n",
    "2. <b>currentThread(): </b>Return the current Thread object, corresponding to the caller’s thread of control. If the caller’s thread of control was not created through the threading module, a dummy thread object with limited functionality is returned.<br>\n",
    "3. <b>enumerate(): </b>Return a list of all Thread objects currently active. The list includes daemonic threads and dummy thread objects created by current_thread()."
   ]
  },
  {
   "cell_type": "markdown",
   "id": "64c5cf8b-55ab-4eea-97b3-87d46b83114a",
   "metadata": {},
   "source": [
    "### <b>Question No. 3"
   ]
  },
  {
   "cell_type": "markdown",
   "id": "33dea1fc-25e6-48bd-9afa-16875ef9fafe",
   "metadata": {},
   "source": [
    "1. <b>run():</b>  The run() method is the entry point for a thread. It is the method that will be executed when the thread starts.\n",
    "2. <b>start():</b>  The start() method starts a thread. It causes the thread to begin executing its run() method.\n",
    "3. <b>join():</b> The join() method waits for a thread to finish executing. It blocks the current thread until the thread you are calling join() on has completed.\n",
    "4. <b>isAlive():</b>  The isAlive() method returns true if the thread is alive, false otherwise. A thread is considered alive when the start() method has been called and the thread has not yet died."
   ]
  },
  {
   "cell_type": "markdown",
   "id": "b83cf481-c324-4334-aa90-46319d1f9741",
   "metadata": {},
   "source": [
    "### <b>Question No. 4"
   ]
  },
  {
   "cell_type": "code",
   "execution_count": 3,
   "id": "f7812dc6-d18b-445d-9141-6b09e0289290",
   "metadata": {},
   "outputs": [
    {
     "name": "stdout",
     "output_type": "stream",
     "text": [
      "Square of 1: 1\n",
      "Square of 2: 4\n",
      "Square of 3: 9\n",
      "Square of 4: 16\n",
      "Square of 5: 25\n",
      "Cube of 1: 1\n",
      "Cube of 2: 8\n",
      "Cube of 3: 27\n",
      "Cube of 4: 64\n",
      "Cube of 5: 125\n"
     ]
    }
   ],
   "source": [
    "import threading\n",
    "\n",
    "def print_squares():\n",
    "    for i in range(1, 6):\n",
    "        print(f\"Square of {i}: {i**2}\")\n",
    "\n",
    "def print_cubes():\n",
    "    for i in range(1, 6):\n",
    "        print(f\"Cube of {i}: {i**3}\")\n",
    "\n",
    "thread1 = threading.Thread(target=print_squares)\n",
    "thread2 = threading.Thread(target=print_cubes)\n",
    "\n",
    "thread1.start()\n",
    "thread2.start()"
   ]
  },
  {
   "cell_type": "markdown",
   "id": "b96bd76a-053b-4174-ac3a-bf4284c62504",
   "metadata": {},
   "source": [
    "### <b>Question No. 5"
   ]
  },
  {
   "cell_type": "markdown",
   "id": "9515a75b-32d8-4589-ae22-f8881c2ab319",
   "metadata": {},
   "source": [
    "<h4><b>Advantages of multithreading:</b></h4>\n",
    "<h4>Parallelism: </h4>\n",
    "Multithreading can enable parallelism, which can lead to improved performance for applications that can be divided into smaller, independent tasks.\n",
    "<h4>Throughput: </h4>\n",
    "Multithreading can offer increased throughput, better responsiveness, resource efficiency, and parallelism.<br>\n",
    "<h4>Processor utilization: </h4>\n",
    "Multithreading increases processor utilization by multitasking.\n",
    "<h4>Modularity: </h4>\n",
    "A big task can be divided logically and can be handled by separate thread synchronously.\n",
    "\n",
    "<b><h4>Disadvantages of multithreading:</h4></b>\n",
    "<h4>Complexity: </h4>\n",
    "Multithreading adds complexity to the program, making it more difficult to design, implement, and debug.\n",
    "<h4>Performance</h4>\n",
    "On a single-core/processor machine, threading can affect performance negatively as there is overhead involved with context-switching.\n",
    "<h4>Debugging</h4>\n",
    "Multithreaded applications are difficult to write, understand, debug, and maintain.\n",
    "<h4>Deadlock</h4>\n",
    "Multithreading can increase the potential for deadlock occurrence. "
   ]
  },
  {
   "cell_type": "markdown",
   "id": "70119a9c-c810-4d0f-8329-44c9b2ec7b86",
   "metadata": {},
   "source": [
    "### <b>Question No. 6"
   ]
  },
  {
   "cell_type": "markdown",
   "id": "865c1f6e-50bb-4f90-93d2-9fa2e7ab07b6",
   "metadata": {},
   "source": [
    "<b>Deadlocks: </b>\n",
    "Occur when multiple threads are waiting for each other to release a resource. Deadlocks can cause a crash.<br>\n",
    "<b>Race conditions: </b>\n",
    "Occur when multiple threads access the same shared resource at the same time. Race conditions can lead to unexpected behavior due to a lack of synchronization between the threads. Race conditions do not cause a crash. \n"
   ]
  }
 ],
 "metadata": {
  "kernelspec": {
   "display_name": "Python 3 (ipykernel)",
   "language": "python",
   "name": "python3"
  },
  "language_info": {
   "codemirror_mode": {
    "name": "ipython",
    "version": 3
   },
   "file_extension": ".py",
   "mimetype": "text/x-python",
   "name": "python",
   "nbconvert_exporter": "python",
   "pygments_lexer": "ipython3",
   "version": "3.10.12"
  }
 },
 "nbformat": 4,
 "nbformat_minor": 5
}
